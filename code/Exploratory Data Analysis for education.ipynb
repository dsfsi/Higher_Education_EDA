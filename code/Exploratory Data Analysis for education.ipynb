{
 "cells": [
  {
   "cell_type": "code",
   "execution_count": 27,
   "id": "670b668d",
   "metadata": {},
   "outputs": [],
   "source": [
    "import numpy as np\n",
    "import pandas as pd\n",
    "import matplotlib.pyplot as plt\n",
    "import seaborn as sns\n",
    "\n",
    "from sklearn.neighbors import KNeighborsClassifier\n",
    "from sklearn.model_selection import cross_val_score\n",
    "from sklearn.model_selection import train_test_split\n",
    "from sklearn.preprocessing import StandardScaler\n",
    "from sklearn.pipeline import make_pipeline\n",
    "from sklearn.model_selection import learning_curve\n",
    "import matplotlib.pyplot as plt\n",
    "%matplotlib inline"
   ]
  },
  {
   "cell_type": "markdown",
   "id": "40294761",
   "metadata": {},
   "source": [
    "# Adding the dependencies\n",
    "\n",
    "There are a lot of different pacages out there, but I have to give full credit to the creators of all these packages. The true heros of this analysis has to be pandas, numpy, sklearn, seaborn and matplotlib. These packages allow us to not only work with the tabular data, but also give us the lifting power to develop some models for predictions etc.\n",
    "\n",
    "In this example, we will start with an exploratory data analysis - followed by a machine learning pipeline - evaluated on the given dataset. For the purpose of these experiments, we will use the Engineering datasets - but any large tabular dataset will do to make this analysis effective.\n",
    "\n",
    "Let us start by loading the data"
   ]
  },
  {
   "cell_type": "code",
   "execution_count": 28,
   "id": "c49f97a8",
   "metadata": {},
   "outputs": [],
   "source": [
    "educationdata1 = pd.read_csv(*Insert your data here*)"
   ]
  },
  {
   "cell_type": "markdown",
   "id": "fa4d5d29",
   "metadata": {},
   "source": [
    "You will not always have the luxary to open your dataset in a data frame, especially when you work with very rarge datasets. As such, we can view a portion of the data to get a sense of what the dataframe looks like.\n",
    "\n",
    "\n",
    "**Let us look at the first five rows of the data, to have an idea if what is inside the dataset**\n"
   ]
  },
  {
   "cell_type": "code",
   "execution_count": 45,
   "id": "0730f5c8",
   "metadata": {},
   "outputs": [
    {
     "data": {
      "text/html": [
       "<div>\n",
       "<style scoped>\n",
       "    .dataframe tbody tr th:only-of-type {\n",
       "        vertical-align: middle;\n",
       "    }\n",
       "\n",
       "    .dataframe tbody tr th {\n",
       "        vertical-align: top;\n",
       "    }\n",
       "\n",
       "    .dataframe thead th {\n",
       "        text-align: right;\n",
       "    }\n",
       "</style>\n",
       "<table border=\"1\" class=\"dataframe\">\n",
       "  <thead>\n",
       "    <tr style=\"text-align: right;\">\n",
       "      <th></th>\n",
       "      <th>ID</th>\n",
       "      <th>final_result</th>\n",
       "      <th>Female</th>\n",
       "      <th>Male</th>\n",
       "      <th>YoG</th>\n",
       "      <th>SGPA</th>\n",
       "      <th>CGPA100</th>\n",
       "      <th>CGPA200</th>\n",
       "    </tr>\n",
       "  </thead>\n",
       "  <tbody>\n",
       "    <tr>\n",
       "      <th>0</th>\n",
       "      <td>1</td>\n",
       "      <td>Pass</td>\n",
       "      <td>1</td>\n",
       "      <td>0</td>\n",
       "      <td>1.1</td>\n",
       "      <td>3.13</td>\n",
       "      <td>2.88</td>\n",
       "      <td>3.48</td>\n",
       "    </tr>\n",
       "    <tr>\n",
       "      <th>1</th>\n",
       "      <td>2</td>\n",
       "      <td>Pass</td>\n",
       "      <td>1</td>\n",
       "      <td>0</td>\n",
       "      <td>1.1</td>\n",
       "      <td>3.02</td>\n",
       "      <td>3.25</td>\n",
       "      <td>4.26</td>\n",
       "    </tr>\n",
       "    <tr>\n",
       "      <th>2</th>\n",
       "      <td>3</td>\n",
       "      <td>Pass</td>\n",
       "      <td>0</td>\n",
       "      <td>1</td>\n",
       "      <td>1.1</td>\n",
       "      <td>2.19</td>\n",
       "      <td>1.78</td>\n",
       "      <td>1.98</td>\n",
       "    </tr>\n",
       "    <tr>\n",
       "      <th>3</th>\n",
       "      <td>4</td>\n",
       "      <td>Borderline pass</td>\n",
       "      <td>0</td>\n",
       "      <td>1</td>\n",
       "      <td>1.1</td>\n",
       "      <td>3.19</td>\n",
       "      <td>2.67</td>\n",
       "      <td>2.44</td>\n",
       "    </tr>\n",
       "    <tr>\n",
       "      <th>4</th>\n",
       "      <td>5</td>\n",
       "      <td>Pass with distinction</td>\n",
       "      <td>1</td>\n",
       "      <td>0</td>\n",
       "      <td>1.1</td>\n",
       "      <td>4.24</td>\n",
       "      <td>3.61</td>\n",
       "      <td>3.69</td>\n",
       "    </tr>\n",
       "  </tbody>\n",
       "</table>\n",
       "</div>"
      ],
      "text/plain": [
       "   ID           final_result  Female  Male  YoG  SGPA  CGPA100  CGPA200\n",
       "0   1                   Pass       1     0  1.1  3.13     2.88     3.48\n",
       "1   2                   Pass       1     0  1.1  3.02     3.25     4.26\n",
       "2   3                   Pass       0     1  1.1  2.19     1.78     1.98\n",
       "3   4        Borderline pass       0     1  1.1  3.19     2.67     2.44\n",
       "4   5  Pass with distinction       1     0  1.1  4.24     3.61     3.69"
      ]
     },
     "execution_count": 45,
     "metadata": {},
     "output_type": "execute_result"
    }
   ],
   "source": [
    "educationdata1.head()"
   ]
  },
  {
   "cell_type": "markdown",
   "id": "4cb4e257",
   "metadata": {},
   "source": [
    "Simply looking at the first five rows of the data is not always the most effective way to understand what is going on inside the dataset. We can look a bit deeper at the given information to understand what type of variables are within the dataset. \n",
    "\n",
    "**In the code below we will do two things, look at the variable types, as well as how many missing datapoints are within the dataset**\n",
    "\n",
    "This is important is we want to build a machine learning model to evaluate something that predicts student outcomes. More on this a bit later"
   ]
  },
  {
   "cell_type": "code",
   "execution_count": 30,
   "id": "5e436493",
   "metadata": {},
   "outputs": [
    {
     "name": "stdout",
     "output_type": "stream",
     "text": [
      "<class 'pandas.core.frame.DataFrame'>\n",
      "RangeIndex: 3046 entries, 0 to 3045\n",
      "Data columns (total 10 columns):\n",
      " #   Column        Non-Null Count  Dtype  \n",
      "---  ------        --------------  -----  \n",
      " 0   IDNo          3046 non-null   int64  \n",
      " 1   ID            3046 non-null   int64  \n",
      " 2   final_result  3046 non-null   object \n",
      " 3   Female        3046 non-null   int64  \n",
      " 4   Male          3046 non-null   int64  \n",
      " 5   YoG           3046 non-null   float64\n",
      " 6   SGPA          3046 non-null   float64\n",
      " 7   CGPA100       3046 non-null   float64\n",
      " 8   CGPA200       3046 non-null   float64\n",
      " 9   CGPA300       3046 non-null   float64\n",
      "dtypes: float64(5), int64(4), object(1)\n",
      "memory usage: 238.1+ KB\n"
     ]
    },
    {
     "data": {
      "text/plain": [
       "IDNo            0\n",
       "ID              0\n",
       "final_result    0\n",
       "Female          0\n",
       "Male            0\n",
       "YoG             0\n",
       "SGPA            0\n",
       "CGPA100         0\n",
       "CGPA200         0\n",
       "CGPA300         0\n",
       "dtype: int64"
      ]
     },
     "execution_count": 30,
     "metadata": {},
     "output_type": "execute_result"
    }
   ],
   "source": [
    "educationdata1.info()\n",
    "educationdata1.isnull().sum()"
   ]
  },
  {
   "cell_type": "markdown",
   "id": "3ffc571f",
   "metadata": {},
   "source": [
    "This is great! We can see that the intiger variables are within IDNo, ID and the \"Male\" and \"Female\" variables. This makes sense since one-hot-encoding was used to stratify the categorical \"Male and Female\" variables. We can also observe that \"final_result\" is an object variable. THis makes sense since there are four categories within the \"final_result\" variable:\n",
    "- Pass\n",
    "- Piss with distinction\n",
    "- Borderline pass\n",
    "- Fail\n",
    "\n",
    "\n",
    "These for categories will be what we predict in our machine learning model down the line.\n",
    "\n",
    "**Next, let us get a sense for the central tendencies of the data by looking at the descriptive statistics**"
   ]
  },
  {
   "cell_type": "code",
   "execution_count": 46,
   "id": "5e6ee016",
   "metadata": {},
   "outputs": [
    {
     "data": {
      "text/html": [
       "<div>\n",
       "<style scoped>\n",
       "    .dataframe tbody tr th:only-of-type {\n",
       "        vertical-align: middle;\n",
       "    }\n",
       "\n",
       "    .dataframe tbody tr th {\n",
       "        vertical-align: top;\n",
       "    }\n",
       "\n",
       "    .dataframe thead th {\n",
       "        text-align: right;\n",
       "    }\n",
       "</style>\n",
       "<table border=\"1\" class=\"dataframe\">\n",
       "  <thead>\n",
       "    <tr style=\"text-align: right;\">\n",
       "      <th></th>\n",
       "      <th>count</th>\n",
       "      <th>mean</th>\n",
       "      <th>std</th>\n",
       "      <th>min</th>\n",
       "      <th>25%</th>\n",
       "      <th>50%</th>\n",
       "      <th>75%</th>\n",
       "      <th>max</th>\n",
       "    </tr>\n",
       "  </thead>\n",
       "  <tbody>\n",
       "    <tr>\n",
       "      <th>ID</th>\n",
       "      <td>3046.0</td>\n",
       "      <td>1523.500000</td>\n",
       "      <td>879.448786</td>\n",
       "      <td>1.00</td>\n",
       "      <td>762.25</td>\n",
       "      <td>1523.50</td>\n",
       "      <td>2284.75</td>\n",
       "      <td>3046.00</td>\n",
       "    </tr>\n",
       "    <tr>\n",
       "      <th>Female</th>\n",
       "      <td>3046.0</td>\n",
       "      <td>0.358831</td>\n",
       "      <td>0.479736</td>\n",
       "      <td>0.00</td>\n",
       "      <td>0.00</td>\n",
       "      <td>0.00</td>\n",
       "      <td>1.00</td>\n",
       "      <td>1.00</td>\n",
       "    </tr>\n",
       "    <tr>\n",
       "      <th>Male</th>\n",
       "      <td>3046.0</td>\n",
       "      <td>0.641169</td>\n",
       "      <td>0.479736</td>\n",
       "      <td>0.00</td>\n",
       "      <td>0.00</td>\n",
       "      <td>1.00</td>\n",
       "      <td>1.00</td>\n",
       "      <td>1.00</td>\n",
       "    </tr>\n",
       "    <tr>\n",
       "      <th>YoG</th>\n",
       "      <td>3046.0</td>\n",
       "      <td>1.318385</td>\n",
       "      <td>0.132910</td>\n",
       "      <td>1.10</td>\n",
       "      <td>1.20</td>\n",
       "      <td>1.30</td>\n",
       "      <td>1.40</td>\n",
       "      <td>1.50</td>\n",
       "    </tr>\n",
       "    <tr>\n",
       "      <th>SGPA</th>\n",
       "      <td>3046.0</td>\n",
       "      <td>3.119645</td>\n",
       "      <td>0.616151</td>\n",
       "      <td>1.46</td>\n",
       "      <td>2.66</td>\n",
       "      <td>3.06</td>\n",
       "      <td>3.57</td>\n",
       "      <td>4.93</td>\n",
       "    </tr>\n",
       "    <tr>\n",
       "      <th>CGPA100</th>\n",
       "      <td>3046.0</td>\n",
       "      <td>3.636106</td>\n",
       "      <td>0.679256</td>\n",
       "      <td>1.57</td>\n",
       "      <td>3.18</td>\n",
       "      <td>3.69</td>\n",
       "      <td>4.15</td>\n",
       "      <td>5.00</td>\n",
       "    </tr>\n",
       "    <tr>\n",
       "      <th>CGPA200</th>\n",
       "      <td>3046.0</td>\n",
       "      <td>3.321687</td>\n",
       "      <td>0.782473</td>\n",
       "      <td>1.17</td>\n",
       "      <td>2.76</td>\n",
       "      <td>3.34</td>\n",
       "      <td>3.92</td>\n",
       "      <td>5.00</td>\n",
       "    </tr>\n",
       "  </tbody>\n",
       "</table>\n",
       "</div>"
      ],
      "text/plain": [
       "          count         mean         std   min     25%      50%      75%  \\\n",
       "ID       3046.0  1523.500000  879.448786  1.00  762.25  1523.50  2284.75   \n",
       "Female   3046.0     0.358831    0.479736  0.00    0.00     0.00     1.00   \n",
       "Male     3046.0     0.641169    0.479736  0.00    0.00     1.00     1.00   \n",
       "YoG      3046.0     1.318385    0.132910  1.10    1.20     1.30     1.40   \n",
       "SGPA     3046.0     3.119645    0.616151  1.46    2.66     3.06     3.57   \n",
       "CGPA100  3046.0     3.636106    0.679256  1.57    3.18     3.69     4.15   \n",
       "CGPA200  3046.0     3.321687    0.782473  1.17    2.76     3.34     3.92   \n",
       "\n",
       "             max  \n",
       "ID       3046.00  \n",
       "Female      1.00  \n",
       "Male        1.00  \n",
       "YoG         1.50  \n",
       "SGPA        4.93  \n",
       "CGPA100     5.00  \n",
       "CGPA200     5.00  "
      ]
     },
     "execution_count": 46,
     "metadata": {},
     "output_type": "execute_result"
    }
   ],
   "source": [
    "summary = educationdata1.describe()\n",
    "summary = summary.transpose()\n",
    "summary"
   ]
  },
  {
   "cell_type": "markdown",
   "id": "eba614c2",
   "metadata": {},
   "source": [
    "This is quite insightful, 64.11% of the sample is male, and 35.88% female.The average GPA (grade point average) decrease from the first to the final year (on average, but there are exceptions) and there were people with a perfect GPA in their first and second year of study.\n",
    "\n",
    "We could not work out the descriptive statistics on the categorical variable \"final_result\", so let us investigate this with a bit more detail by counting each of these."
   ]
  },
  {
   "cell_type": "code",
   "execution_count": 32,
   "id": "04946712",
   "metadata": {},
   "outputs": [
    {
     "data": {
      "text/plain": [
       "Pass                     1659\n",
       "Pass with distinction    1085\n",
       "Borderline pass           298\n",
       "Fail                        4\n",
       "Name: final_result, dtype: int64"
      ]
     },
     "execution_count": 32,
     "metadata": {},
     "output_type": "execute_result"
    }
   ],
   "source": [
    "count = educationdata1.final_result.value_counts()\n",
    "count"
   ]
  },
  {
   "cell_type": "markdown",
   "id": "f11cfe93",
   "metadata": {},
   "source": [
    "Interesting find, only 4 people failed within this dataset and the majority (n = 1659) passed this module. Next, let us look at the associations between variable pairs in the sample by looking at the Pearson's correlation coefficients between pairs of variables in the example"
   ]
  },
  {
   "cell_type": "code",
   "execution_count": 33,
   "id": "0ddce3b5",
   "metadata": {},
   "outputs": [],
   "source": [
    "educationdata1.drop(educationdata1.columns[[-1, 0]], axis=1, inplace=True)"
   ]
  },
  {
   "cell_type": "code",
   "execution_count": 34,
   "id": "33882165",
   "metadata": {},
   "outputs": [
    {
     "data": {
      "text/html": [
       "<div>\n",
       "<style scoped>\n",
       "    .dataframe tbody tr th:only-of-type {\n",
       "        vertical-align: middle;\n",
       "    }\n",
       "\n",
       "    .dataframe tbody tr th {\n",
       "        vertical-align: top;\n",
       "    }\n",
       "\n",
       "    .dataframe thead th {\n",
       "        text-align: right;\n",
       "    }\n",
       "</style>\n",
       "<table border=\"1\" class=\"dataframe\">\n",
       "  <thead>\n",
       "    <tr style=\"text-align: right;\">\n",
       "      <th></th>\n",
       "      <th>ID</th>\n",
       "      <th>Female</th>\n",
       "      <th>Male</th>\n",
       "      <th>YoG</th>\n",
       "      <th>SGPA</th>\n",
       "      <th>CGPA100</th>\n",
       "      <th>CGPA200</th>\n",
       "    </tr>\n",
       "  </thead>\n",
       "  <tbody>\n",
       "    <tr>\n",
       "      <th>ID</th>\n",
       "      <td>1.000000</td>\n",
       "      <td>-0.228863</td>\n",
       "      <td>0.228863</td>\n",
       "      <td>0.098514</td>\n",
       "      <td>0.076069</td>\n",
       "      <td>0.183832</td>\n",
       "      <td>0.005244</td>\n",
       "    </tr>\n",
       "    <tr>\n",
       "      <th>Female</th>\n",
       "      <td>-0.228863</td>\n",
       "      <td>1.000000</td>\n",
       "      <td>-1.000000</td>\n",
       "      <td>-0.005122</td>\n",
       "      <td>0.023773</td>\n",
       "      <td>-0.016260</td>\n",
       "      <td>0.197654</td>\n",
       "    </tr>\n",
       "    <tr>\n",
       "      <th>Male</th>\n",
       "      <td>0.228863</td>\n",
       "      <td>-1.000000</td>\n",
       "      <td>1.000000</td>\n",
       "      <td>0.005122</td>\n",
       "      <td>-0.023773</td>\n",
       "      <td>0.016260</td>\n",
       "      <td>-0.197654</td>\n",
       "    </tr>\n",
       "    <tr>\n",
       "      <th>YoG</th>\n",
       "      <td>0.098514</td>\n",
       "      <td>-0.005122</td>\n",
       "      <td>0.005122</td>\n",
       "      <td>1.000000</td>\n",
       "      <td>-0.088181</td>\n",
       "      <td>0.100879</td>\n",
       "      <td>-0.091117</td>\n",
       "    </tr>\n",
       "    <tr>\n",
       "      <th>SGPA</th>\n",
       "      <td>0.076069</td>\n",
       "      <td>0.023773</td>\n",
       "      <td>-0.023773</td>\n",
       "      <td>-0.088181</td>\n",
       "      <td>1.000000</td>\n",
       "      <td>0.434993</td>\n",
       "      <td>0.344725</td>\n",
       "    </tr>\n",
       "    <tr>\n",
       "      <th>CGPA100</th>\n",
       "      <td>0.183832</td>\n",
       "      <td>-0.016260</td>\n",
       "      <td>0.016260</td>\n",
       "      <td>0.100879</td>\n",
       "      <td>0.434993</td>\n",
       "      <td>1.000000</td>\n",
       "      <td>0.703889</td>\n",
       "    </tr>\n",
       "    <tr>\n",
       "      <th>CGPA200</th>\n",
       "      <td>0.005244</td>\n",
       "      <td>0.197654</td>\n",
       "      <td>-0.197654</td>\n",
       "      <td>-0.091117</td>\n",
       "      <td>0.344725</td>\n",
       "      <td>0.703889</td>\n",
       "      <td>1.000000</td>\n",
       "    </tr>\n",
       "  </tbody>\n",
       "</table>\n",
       "</div>"
      ],
      "text/plain": [
       "               ID    Female      Male       YoG      SGPA   CGPA100   CGPA200\n",
       "ID       1.000000 -0.228863  0.228863  0.098514  0.076069  0.183832  0.005244\n",
       "Female  -0.228863  1.000000 -1.000000 -0.005122  0.023773 -0.016260  0.197654\n",
       "Male     0.228863 -1.000000  1.000000  0.005122 -0.023773  0.016260 -0.197654\n",
       "YoG      0.098514 -0.005122  0.005122  1.000000 -0.088181  0.100879 -0.091117\n",
       "SGPA     0.076069  0.023773 -0.023773 -0.088181  1.000000  0.434993  0.344725\n",
       "CGPA100  0.183832 -0.016260  0.016260  0.100879  0.434993  1.000000  0.703889\n",
       "CGPA200  0.005244  0.197654 -0.197654 -0.091117  0.344725  0.703889  1.000000"
      ]
     },
     "execution_count": 34,
     "metadata": {},
     "output_type": "execute_result"
    }
   ],
   "source": [
    "educationdata1_corr = educationdata1.corr()\n",
    "educationdata1_corr"
   ]
  },
  {
   "cell_type": "markdown",
   "id": "7a2cfaf3",
   "metadata": {},
   "source": [
    "Not surprising, male and female are inversely proportional to one another. This is expected since one-hot-encoding was used on this categorical variable to quantify the category. A few interesting associations can be seen in the data:\n",
    "\n",
    "- The association between year **one GPA100 and year two GPA200**. This is interesting as there is an association shawing that academic success within the first year of study does translate to the second.\n",
    "- The association between **School leaver GPA (SGPA) and GPA100**. What must be noted is that this association goes down as the student progresses through university - in other words, the School GPA has a higher impact on the first year of study, than any other year of study.\n",
    "\n",
    "To better visualise this table, we can display the results in a **heatmap**. A heatmap visually illustrates this relationship by using colours so that the results can be interpreted visually using colour gradients as well. \n",
    "\n",
    "**While we are at it, let us also visualise the \"final_result\" variable to look at the distribution of the categories.**"
   ]
  },
  {
   "cell_type": "code",
   "execution_count": 35,
   "id": "a6266614",
   "metadata": {},
   "outputs": [
    {
     "data": {
      "text/plain": [
       "(Text(0.5, 1.0, 'Student outcomes'),\n",
       " Text(0.5, 0, 'Outcome'),\n",
       " Text(0, 0.5, 'Number of students'))"
      ]
     },
     "execution_count": 35,
     "metadata": {},
     "output_type": "execute_result"
    },
    {
     "data": {
      "image/png": "[encoded data removed]",
      "text/plain": [
       "<Figure size 720x720 with 2 Axes>"
      ]
     },
     "metadata": {
      "needs_background": "light"
     },
     "output_type": "display_data"
    },
    {
     "data": {
      "image/png": "[encoded data removed]",
      "text/plain": [
       "<Figure size 720x720 with 1 Axes>"
      ]
     },
     "metadata": {
      "needs_background": "light"
     },
     "output_type": "display_data"
    }
   ],
   "source": [
    "f,ax = plt. subplots(figsize = (10,10))\n",
    "sns.heatmap(educationdata1_corr, annot = False, cmap=\"mako\")\n",
    "f,ax = plt. subplots(figsize = (10,10))\n",
    "count.plot.bar()\n",
    "plt.title('Student outcomes'),plt.xlabel('Outcome'),plt.ylabel('Number of students')"
   ]
  },
  {
   "cell_type": "markdown",
   "id": "3514aeac",
   "metadata": {},
   "source": [
    "## Importing the datasets for machine learning\n",
    "\n",
    "Now that we managed to verify that there are only numerical variables, except for the target variable (\"final_result\") and that we have no missing values in the data, let us build a machine learning classification algorithm to predict the likelyhood of a falling into one of these four categories. There are multiple techniques we can use to improve the model - but for the purpose of this experiment, we will not focus too much on fine tuning the model for this specific dataset.\n",
    "\n",
    "**Firstly, we need to set the parameters for the model**"
   ]
  },
  {
   "cell_type": "code",
   "execution_count": 36,
   "id": "a271a436",
   "metadata": {},
   "outputs": [],
   "source": [
    "x1 = educationdata1.drop(\"final_result\", axis = 1)\n",
    "y1 = educationdata1.final_result\n",
    "x2 = educationdata1.drop(\"final_result\", axis = 1)\n",
    "y2 = educationdata1.final_result\n",
    "x_train = x1\n",
    "y_train = y1\n",
    "x_test = x1\n",
    "y_test = y1"
   ]
  },
  {
   "cell_type": "markdown",
   "id": "c7481d51",
   "metadata": {},
   "source": [
    "## Split the data into their respective parts and run the first algorithm\n",
    "\n",
    "We will make use of the train/test method to valdate the model. The intuition of this method is that if you have a large enough dataset, then you can use the dataset itself to train and test the model.\n",
    "\n",
    "**in other words**, if I have 2500 samples, I can use 500 sample to train the model - and then use the remainding 2000 to test the model. Since I **Know the results of the 2000 samples** I can see how well the model performed at predicting the outcome.\n",
    "\n",
    "For this illustration, we will use one technique of both evaluating and testing the model. In the first instance, we will use a k-Nearest Neighbor algorithm. This part of the tutorial is not to teach you how these work, or even to explain the complexities within the code - but merely to expose you into how the exploratory data analysis from earlier can help inform the type of models we build.\n",
    "\n",
    "### Let us start with kNN, and visualse it using a learning curve"
   ]
  },
  {
   "cell_type": "code",
   "execution_count": 44,
   "id": "377496a6",
   "metadata": {},
   "outputs": [],
   "source": [
    "kNN = KNeighborsClassifier(n_neighbors=18)"
   ]
  },
  {
   "cell_type": "code",
   "execution_count": 47,
   "id": "3b5bf443",
   "metadata": {
    "scrolled": false
   },
   "outputs": [
    {
     "name": "stderr",
     "output_type": "stream",
     "text": [
      "C:\\Users\\Combrinkhm\\Anaconda3\\envs\\BNLEARN\\lib\\site-packages\\sklearn\\model_selection\\_split.py:676: UserWarning: The least populated class in y has only 4 members, which is less than n_splits=10.\n",
      "  warnings.warn(\n"
     ]
    },
    {
     "data": {
      "image/png": "[encoded data removed]",
      "text/plain": [
       "<Figure size 2160x720 with 1 Axes>"
      ]
     },
     "metadata": {
      "needs_background": "light"
     },
     "output_type": "display_data"
    }
   ],
   "source": [
    "pipeline = make_pipeline(StandardScaler(), kNN)\n",
    "\n",
    "train_sizes, train_scores, test_scores = learning_curve(estimator = pipeline, X=x_train, y=y_train,\n",
    "                                                       cv=10, train_sizes=np.linspace(0.1,1,10),\n",
    "                                                     n_jobs=1)\n",
    "train_mean = np.mean(train_scores, axis=1)\n",
    "train_std = np.std(train_scores, axis=1)\n",
    "test_mean = np.mean(test_scores, axis=1)\n",
    "test_std = np.std(test_scores, axis=1)\n",
    "\n",
    "ax = plt.figure(figsize=[30,10])\n",
    "\n",
    "plt.plot(train_sizes, train_mean, color='blue', marker='o', markersize=5, label='Training Score')\n",
    "plt.fill_between(train_sizes, train_mean + train_std, train_mean - train_std, alpha=0.15, color='blue')\n",
    "plt.plot(train_sizes, test_mean, color='green', marker='+', markersize=5, linestyle='--', label='Cross Validation Score')\n",
    "plt.fill_between(train_sizes, test_mean + test_std, test_mean - test_std, alpha=0.15, color='green')\n",
    "plt.title('Learning Curve')\n",
    "plt.xlabel('Training Data Size')\n",
    "plt.ylabel('Model Score')\n",
    "plt.grid()\n",
    "plt.ylim(0.4, 0.85)\n",
    "plt.legend(loc='lower right')\n",
    "plt.show()"
   ]
  },
  {
   "cell_type": "markdown",
   "id": "15c4e2a9",
   "metadata": {},
   "source": [
    "**I know there is a lot going on, but if this is your first time, keep the followin in mind**\n",
    "\n",
    "- You are looking at a graph that should be viewed like a time series analysis, from left to right\n",
    "- The X axis represents the training data size - that is, the number of sample that is used to predict the outcome\n",
    "- The Y axis depicts the \"model score\" or accuracy. This score is calculated using a variery of different metrics in what is know as a confusion matrix. This type of scoring is not ideal by itself as it leaves out the number of false positives/negatives/ over and underfitting issues in the data - but at the very least, it is a method for evaluating a model superficially. \n",
    "\n",
    "Another important takehome from this model is that the overall accuracy tends to deviate between roughly 60%-70%. This means that the model itself is not perfect yet. One observation that can be made is that the cross validation score and the Training score get closer and closer the more training data is added to the model. This means that for this prediction to be effective, at least 6000 more samples are needed. \n",
    "\n",
    "Another important factor to note is that this model is built on an engineering cohort that used GPA, and might not be applicable to all education contexts. However, what this type of thinking should expose you too is that you can use data and code to gain the required insight from your cohort to build models like this to better understand your context. "
   ]
  }
 ],
 "metadata": {
  "kernelspec": {
   "display_name": "Python 3",
   "language": "python",
   "name": "python3"
  },
  "language_info": {
   "codemirror_mode": {
    "name": "ipython",
    "version": 3
   },
   "file_extension": ".py",
   "mimetype": "text/x-python",
   "name": "python",
   "nbconvert_exporter": "python",
   "pygments_lexer": "ipython3",
   "version": "3.8.10"
  }
 },
 "nbformat": 4,
 "nbformat_minor": 5
}
