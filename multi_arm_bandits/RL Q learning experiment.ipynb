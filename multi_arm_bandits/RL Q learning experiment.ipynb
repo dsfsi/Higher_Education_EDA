{
 "cells": [
  {
   "cell_type": "code",
   "execution_count": 1,
   "id": "840e383d",
   "metadata": {},
   "outputs": [],
   "source": [
    "env = [{0: ( -9, False ), 1: (  15, True), 2: (-10, False), 3: (-10, False), 4: (-10, False), \n",
    "        5: (-10, False), 6: (-10, False), 7: (-10, False), 8: (-10, False), 9: (-10, False)},\n",
    "       {0: (-10, False), 1: ( 10, True ), 2: (  5, False), 3: (-10, False), 4: (-10, False), \n",
    "        5: (-10, False), 6: (-10, False), 7: (-10, False), 8: (-10, False), 9: (-10, False)},\n",
    "       {0: (-10, False), 1: (-10, False), 2: ( 10, True ), 3: (  5, False), 4: (-10, False), \n",
    "        5: (-10, False), 6: (-10, False), 7: (-10, False), 8: (-10, False), 9: (-10, False)},\n",
    "       {0: (-10, False), 1: (-10, False), 2: (-10, False), 3: ( 10, True ), 4: (  5, False), \n",
    "        5: (-10, False), 6: (-10, False), 7: (-10, False), 8: (-10, False), 9: (-10, False)},\n",
    "       {0: (-10, False), 1: (-10, False), 2: (-10, False), 3: (-10, False), 4: ( 10, True ),\n",
    "        5: (  5, False), 6: (-10, False), 7: (-10, False), 8: (-10, False), 9: (-10, False)},\n",
    "       {0: (-10, False), 1: (-10, False), 2: (-10, False), 3: (-10, False), 4: (-10, False), \n",
    "        5: ( 10, True ), 6: (  5, False), 7: (-10, False), 8: (-10, False), 9: (-10, False)},\n",
    "       {0: (-10, False), 1: (-10, False), 2: (-10, False), 3: (-10, False), 4: (-10, False),\n",
    "        5: (-10, False), 6: ( 10, True ), 7: (  5, False), 8: (-10, False), 9: (-10, False)},\n",
    "       {0: (-10, False), 1: (-10, False), 2: (-10, False), 3: (-10, False), 4: (-10, False),\n",
    "        5: (-10, False), 6: (-10, False), 7: ( 10, True ), 8: (  5, False), 9: (-10, False)},\n",
    "       {0: (-10, False), 1: (-10, False), 2: (-10, False), 3: (-10, False), 4: (-10, False),\n",
    "        5: (-10, False), 6: (-10, False), 7: (-10, False), 8: ( 10, True ), 9: (  5, False)},\n",
    "       {0: (  5, False), 1: (-10, False), 2: (-10, False), 3: (-10, False), 4: (-10, False),\n",
    "        5: (-10, False), 6: (-10, False), 7: (-10, False), 8: (-10, False), 9: ( 10, True )}\n",
    "      ]"
   ]
  },
  {
   "cell_type": "code",
   "execution_count": 2,
   "id": "46171528",
   "metadata": {},
   "outputs": [
    {
     "name": "stdout",
     "output_type": "stream",
     "text": [
      "(-10, False)\n"
     ]
    }
   ],
   "source": [
    "print( env[1][0] )"
   ]
  },
  {
   "cell_type": "code",
   "execution_count": 3,
   "id": "31951dc7",
   "metadata": {},
   "outputs": [
    {
     "name": "stdout",
     "output_type": "stream",
     "text": [
      "(-10, False)\n"
     ]
    }
   ],
   "source": [
    "print( env[1][0] )"
   ]
  },
  {
   "cell_type": "code",
   "execution_count": 4,
   "id": "7ed4112a",
   "metadata": {},
   "outputs": [
    {
     "name": "stdout",
     "output_type": "stream",
     "text": [
      "[[0. 0. 0. 0. 0. 0. 0. 0. 0. 0.]\n",
      " [0. 0. 0. 0. 0. 0. 0. 0. 0. 0.]\n",
      " [0. 0. 0. 0. 0. 0. 0. 0. 0. 0.]\n",
      " [0. 0. 0. 0. 0. 0. 0. 0. 0. 0.]\n",
      " [0. 0. 0. 0. 0. 0. 0. 0. 0. 0.]\n",
      " [0. 0. 0. 0. 0. 0. 0. 0. 0. 0.]\n",
      " [0. 0. 0. 0. 0. 0. 0. 0. 0. 0.]\n",
      " [0. 0. 0. 0. 0. 0. 0. 0. 0. 0.]\n",
      " [0. 0. 0. 0. 0. 0. 0. 0. 0. 0.]\n",
      " [0. 0. 0. 0. 0. 0. 0. 0. 0. 0.]]\n"
     ]
    }
   ],
   "source": [
    "import numpy as np\n",
    "q_table = np.zeros([10, 10])\n",
    "\n",
    "import random\n",
    "from IPython.display import clear_output\n",
    "print(q_table)"
   ]
  },
  {
   "cell_type": "code",
   "execution_count": 7,
   "id": "186b5b87",
   "metadata": {},
   "outputs": [
    {
     "name": "stdout",
     "output_type": "stream",
     "text": [
      "Training: 149900\n",
      "Training finished.\n",
      "\n",
      "Wall time: 3.91 s\n"
     ]
    }
   ],
   "source": [
    "%%time\n",
    "\n",
    "import random\n",
    "from IPython.display import clear_output\n",
    "\n",
    "# Parameters to compound how important is each test during the training phase 150001\n",
    "l_rate   = 0.25 # learning rate\n",
    "w_import = 0.75 # how important it is for future rewards. Lower values, short term decisions. Higher, long-term \n",
    "r_select = 0.25 # aprox. 25% of actions will be randomly selected\n",
    "\n",
    "for i in range(1, 150000):\n",
    "    r_state = random.randrange(0,9,1) # Rows of our environment (students)\n",
    "    r_ok = False\n",
    "    \n",
    "    while not r_ok:\n",
    "        if random.uniform(0, 1) < r_select:\n",
    "            r_act = random.randrange(0,10,1)     # Try randomly a path on the environment Columns (the interventions)\n",
    "        else:\n",
    "            r_act = np.argmax(q_table[r_state]) # Selecting the best action based on learned values\n",
    "        \n",
    "        r_reward, r_ok = env[r_state][r_act] \n",
    "        \n",
    "        o_measu = q_table[r_state, r_act]\n",
    "        n_state = (r_state + 1 if r_state + 1 < 10 else 0) # Just using a valid range\n",
    "        n_maxim = np.max(q_table[r_state])\n",
    "        \n",
    "        n_eval  = ((1 - l_rate) * o_measu) + (l_rate * (r_reward + w_import * n_maxim))\n",
    "        q_table[r_state, r_act] = n_eval\n",
    "\n",
    "        r_state = n_state\n",
    "        \n",
    "    if i % 100 == 0:\n",
    "        clear_output(wait=True)\n",
    "        print(f\"Training: {i}\")\n",
    "\n",
    "print(\"Training finished.\\n\")"
   ]
  },
  {
   "cell_type": "code",
   "execution_count": 8,
   "id": "6ad37027",
   "metadata": {},
   "outputs": [
    {
     "name": "stdout",
     "output_type": "stream",
     "text": [
      "[[36. 60. 35. 35. 35. 35. 35. 35. 35. 35.]\n",
      " [20. 40. 35. 20. 20. 20. 20. 20. 20. 20.]\n",
      " [20. 20. 40. 35. 20. 20. 20. 20. 20. 20.]\n",
      " [20. 20. 20. 40. 35. 20. 20. 20. 20. 20.]\n",
      " [20. 20. 20. 20. 40. 35. 20. 20. 20. 20.]\n",
      " [20. 20. 20. 20. 20. 40. 35. 20. 20. 20.]\n",
      " [20. 20. 20. 20. 20. 20. 40. 35. 20. 20.]\n",
      " [20. 20. 20. 20. 20. 20. 20. 40. 35. 20.]\n",
      " [20. 20. 20. 20. 20. 20. 20. 20. 40. 35.]\n",
      " [35. 20. 20. 20. 20. 20. 20. 20. 20. 40.]]\n"
     ]
    }
   ],
   "source": [
    "print(q_table)"
   ]
  },
  {
   "cell_type": "code",
   "execution_count": 10,
   "id": "aca26a7c",
   "metadata": {},
   "outputs": [
    {
     "name": "stdout",
     "output_type": "stream",
     "text": [
      "Training: 15000\n",
      "Training finished.\n",
      "\n",
      "Wall time: 1.06 s\n"
     ]
    }
   ],
   "source": [
    "%%time\n",
    "\n",
    "import random\n",
    "from IPython.display import clear_output\n",
    "\n",
    "# Parameters to compound how important is each test during the training phase 150001\n",
    "l_rate   = 0.25 # learning rate\n",
    "w_import = 0.75 # how important it is for future rewards. Lower values, short term decisions. Higher, long-term \n",
    "r_select = 0.25 # aprox. 20% of actions will be randomly selected\n",
    "\n",
    "for i in range(1, 15001):\n",
    "    r_state = random.randrange(0,9,1) # Rows of our environment (clients)\n",
    "    r_ok = False\n",
    "    \n",
    "    while not r_ok:\n",
    "        if random.uniform(0, 1) < r_select:\n",
    "            r_act = random.randrange(0,10,1)     # Try randomly a path on the environment Columns (products)\n",
    "        else:\n",
    "            r_act = np.argmax(q_table[r_state]) # Selecting the best action based on learned values\n",
    "        \n",
    "        r_reward, r_ok = env[r_state][r_act] \n",
    "        \n",
    "        o_measu = q_table[r_state, r_act]\n",
    "        n_state = (r_state + 1 if r_state + 1 < 10 else 0) # Just using a valid range\n",
    "        n_maxim = np.max(q_table[r_state])\n",
    "        \n",
    "        n_eval  = ((1 - l_rate) * o_measu) + (l_rate * (r_reward + w_import * n_maxim))\n",
    "        q_table[r_state, r_act] = n_eval\n",
    "\n",
    "        r_state = n_state\n",
    "        \n",
    "    if i % 100 == 0:\n",
    "        clear_output(wait=True)\n",
    "        print(f\"Training: {i}\")\n",
    "\n",
    "print(\"Training finished.\\n\")"
   ]
  },
  {
   "cell_type": "code",
   "execution_count": 11,
   "id": "39b4f596",
   "metadata": {},
   "outputs": [
    {
     "name": "stdout",
     "output_type": "stream",
     "text": [
      "[[36. 60. 35. 35. 35. 35. 35. 35. 35. 35.]\n",
      " [20. 40. 35. 20. 20. 20. 20. 20. 20. 20.]\n",
      " [20. 20. 40. 35. 20. 20. 20. 20. 20. 20.]\n",
      " [20. 20. 20. 40. 35. 20. 20. 20. 20. 20.]\n",
      " [20. 20. 20. 20. 40. 35. 20. 20. 20. 20.]\n",
      " [20. 20. 20. 20. 20. 40. 35. 20. 20. 20.]\n",
      " [20. 20. 20. 20. 20. 20. 40. 35. 20. 20.]\n",
      " [20. 20. 20. 20. 20. 20. 20. 40. 35. 20.]\n",
      " [20. 20. 20. 20. 20. 20. 20. 20. 40. 35.]\n",
      " [35. 20. 20. 20. 20. 20. 20. 20. 20. 40.]]\n"
     ]
    }
   ],
   "source": [
    "print(q_table)"
   ]
  },
  {
   "cell_type": "code",
   "execution_count": 12,
   "id": "ad803d90",
   "metadata": {},
   "outputs": [
    {
     "name": "stdout",
     "output_type": "stream",
     "text": [
      "Training: 150000\n",
      "Training finished.\n",
      "\n",
      "Wall time: 11.2 s\n"
     ]
    }
   ],
   "source": [
    "%%time\n",
    "\n",
    "import random\n",
    "from IPython.display import clear_output\n",
    "\n",
    "# Parameters to compound how important is each test during the training phase 150001\n",
    "l_rate   = 0.25 # learning rate\n",
    "w_import = 0.75 # how important it is for future rewards. Lower values, short term decisions. Higher, long-term \n",
    "r_select = 0.25 # aprox. 20% of actions will be randomly selected\n",
    "\n",
    "for i in range(1, 150001):\n",
    "    r_state = random.randrange(0,9,1) # Rows of our environment (clients)\n",
    "    r_ok = False\n",
    "    \n",
    "    while not r_ok:\n",
    "        if random.uniform(0, 1) < r_select:\n",
    "            r_act = random.randrange(0,10,1)     # Try randomly a path on the environment Columns (products)\n",
    "        else:\n",
    "            r_act = np.argmax(q_table[r_state]) # Selecting the best action based on learned values\n",
    "        \n",
    "        r_reward, r_ok = env[r_state][r_act] \n",
    "        \n",
    "        o_measu = q_table[r_state, r_act]\n",
    "        n_state = (r_state + 1 if r_state + 1 < 10 else 0) # Just using a valid range\n",
    "        n_maxim = np.max(q_table[r_state])\n",
    "        \n",
    "        n_eval  = ((1 - l_rate) * o_measu) + (l_rate * (r_reward + w_import * n_maxim))\n",
    "        q_table[r_state, r_act] = n_eval\n",
    "\n",
    "        r_state = n_state\n",
    "        \n",
    "    if i % 100 == 0:\n",
    "        clear_output(wait=True)\n",
    "        print(f\"Training: {i}\")\n",
    "\n",
    "print(\"Training finished.\\n\")"
   ]
  },
  {
   "cell_type": "code",
   "execution_count": 13,
   "id": "ff2d593f",
   "metadata": {},
   "outputs": [
    {
     "name": "stdout",
     "output_type": "stream",
     "text": [
      "[[36. 60. 35. 35. 35. 35. 35. 35. 35. 35.]\n",
      " [20. 40. 35. 20. 20. 20. 20. 20. 20. 20.]\n",
      " [20. 20. 40. 35. 20. 20. 20. 20. 20. 20.]\n",
      " [20. 20. 20. 40. 35. 20. 20. 20. 20. 20.]\n",
      " [20. 20. 20. 20. 40. 35. 20. 20. 20. 20.]\n",
      " [20. 20. 20. 20. 20. 40. 35. 20. 20. 20.]\n",
      " [20. 20. 20. 20. 20. 20. 40. 35. 20. 20.]\n",
      " [20. 20. 20. 20. 20. 20. 20. 40. 35. 20.]\n",
      " [20. 20. 20. 20. 20. 20. 20. 20. 40. 35.]\n",
      " [35. 20. 20. 20. 20. 20. 20. 20. 20. 40.]]\n"
     ]
    }
   ],
   "source": [
    "print(q_table)"
   ]
  },
  {
   "cell_type": "code",
   "execution_count": 14,
   "id": "e79d0641",
   "metadata": {},
   "outputs": [
    {
     "name": "stdout",
     "output_type": "stream",
     "text": [
      "I made 0 wrong suggestions after 10.\n",
      "Training: 150000\n",
      "hello\n"
     ]
    }
   ],
   "source": [
    "r_wrong   = 0\n",
    "tentative = 10\n",
    "\n",
    "for _ in range(tentative):\n",
    "    r_state = random.randrange(0,9,1)\n",
    "    r_reward = 0\n",
    "    \n",
    "    r_ok = False\n",
    "    \n",
    "    while not r_ok:\n",
    "        r_act = np.argmax(q_table[r_state])\n",
    "        r_reward, r_ok = env[r_state][r_act]\n",
    "\n",
    "        if r_reward == -10:\n",
    "            r_wrong += 1\n",
    "\n",
    "\n",
    "print(f\"I made {r_wrong} wrong suggestions after {tentative}.\")\n",
    "print(f\"Training: {i}\")\n",
    "print(\"hello\")"
   ]
  },
  {
   "cell_type": "code",
   "execution_count": null,
   "id": "8680d77a",
   "metadata": {},
   "outputs": [],
   "source": []
  }
 ],
 "metadata": {
  "kernelspec": {
   "display_name": "Python 3",
   "language": "python",
   "name": "python3"
  },
  "language_info": {
   "codemirror_mode": {
    "name": "ipython",
    "version": 3
   },
   "file_extension": ".py",
   "mimetype": "text/x-python",
   "name": "python",
   "nbconvert_exporter": "python",
   "pygments_lexer": "ipython3",
   "version": "3.8.10"
  }
 },
 "nbformat": 4,
 "nbformat_minor": 5
}
